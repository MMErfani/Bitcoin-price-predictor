{
  "nbformat": 4,
  "nbformat_minor": 0,
  "metadata": {
    "colab": {
      "name": "main.ipynb",
      "provenance": [],
      "collapsed_sections": []
    },
    "kernelspec": {
      "name": "python3",
      "display_name": "Python 3"
    },
    "language_info": {
      "name": "python"
    }
  },
  "cells": [
    {
      "cell_type": "code",
      "execution_count": 38,
      "metadata": {
        "id": "t2gC_MGe3mKl"
      },
      "outputs": [],
      "source": [
        "import requests\n",
        "import pandas as pd"
      ]
    },
    {
      "cell_type": "code",
      "source": [
        "url = 'https://finance.yahoo.com/quote/BTC-USD/history?p=BTC-USD'\n",
        "r = requests.get(url, headers={'User-Agent': 'Mozilla/5.0 (X11; Ubuntu; Linux x86_64; rv:15.0) Gecko/20100101 Firefox/15.0.1'})\n",
        "read_html_pandas_data = pd.read_html(r.text)\n",
        "dataframe = read_html_pandas_data[0][:-1]"
      ],
      "metadata": {
        "id": "xqoRXXDu4rsq"
      },
      "execution_count": 39,
      "outputs": []
    },
    {
      "cell_type": "code",
      "source": [
        "dataframe.head()"
      ],
      "metadata": {
        "colab": {
          "base_uri": "https://localhost:8080/",
          "height": 250
        },
        "id": "wbmfK37PBCa3",
        "outputId": "4c603762-2bd7-4674-ff4d-130ccba68db5"
      },
      "execution_count": 40,
      "outputs": [
        {
          "output_type": "execute_result",
          "data": {
            "text/plain": [
              "           Date      Open      High       Low    Close* Adj Close**  \\\n",
              "0  Aug 23, 2022  21398.63  21510.65  20955.14  21441.81    21441.81   \n",
              "1  Aug 22, 2022  21531.46  21531.46  20939.18  21398.91    21398.91   \n",
              "2  Aug 21, 2022  21160.39  21668.85  21103.20  21534.12    21534.12   \n",
              "3  Aug 20, 2022  20872.84  21350.81  20856.73  21166.06    21166.06   \n",
              "4  Aug 19, 2022  23213.31  23213.31  20868.85  20877.55    20877.55   \n",
              "\n",
              "        Volume  \n",
              "0  32566796288  \n",
              "1  31666498758  \n",
              "2  23102307723  \n",
              "3  27595671000  \n",
              "4  40509610260  "
            ],
            "text/html": [
              "\n",
              "  <div id=\"df-d4afdce8-62a6-49f9-8dfa-b628fbec7ce8\">\n",
              "    <div class=\"colab-df-container\">\n",
              "      <div>\n",
              "<style scoped>\n",
              "    .dataframe tbody tr th:only-of-type {\n",
              "        vertical-align: middle;\n",
              "    }\n",
              "\n",
              "    .dataframe tbody tr th {\n",
              "        vertical-align: top;\n",
              "    }\n",
              "\n",
              "    .dataframe thead th {\n",
              "        text-align: right;\n",
              "    }\n",
              "</style>\n",
              "<table border=\"1\" class=\"dataframe\">\n",
              "  <thead>\n",
              "    <tr style=\"text-align: right;\">\n",
              "      <th></th>\n",
              "      <th>Date</th>\n",
              "      <th>Open</th>\n",
              "      <th>High</th>\n",
              "      <th>Low</th>\n",
              "      <th>Close*</th>\n",
              "      <th>Adj Close**</th>\n",
              "      <th>Volume</th>\n",
              "    </tr>\n",
              "  </thead>\n",
              "  <tbody>\n",
              "    <tr>\n",
              "      <th>0</th>\n",
              "      <td>Aug 23, 2022</td>\n",
              "      <td>21398.63</td>\n",
              "      <td>21510.65</td>\n",
              "      <td>20955.14</td>\n",
              "      <td>21441.81</td>\n",
              "      <td>21441.81</td>\n",
              "      <td>32566796288</td>\n",
              "    </tr>\n",
              "    <tr>\n",
              "      <th>1</th>\n",
              "      <td>Aug 22, 2022</td>\n",
              "      <td>21531.46</td>\n",
              "      <td>21531.46</td>\n",
              "      <td>20939.18</td>\n",
              "      <td>21398.91</td>\n",
              "      <td>21398.91</td>\n",
              "      <td>31666498758</td>\n",
              "    </tr>\n",
              "    <tr>\n",
              "      <th>2</th>\n",
              "      <td>Aug 21, 2022</td>\n",
              "      <td>21160.39</td>\n",
              "      <td>21668.85</td>\n",
              "      <td>21103.20</td>\n",
              "      <td>21534.12</td>\n",
              "      <td>21534.12</td>\n",
              "      <td>23102307723</td>\n",
              "    </tr>\n",
              "    <tr>\n",
              "      <th>3</th>\n",
              "      <td>Aug 20, 2022</td>\n",
              "      <td>20872.84</td>\n",
              "      <td>21350.81</td>\n",
              "      <td>20856.73</td>\n",
              "      <td>21166.06</td>\n",
              "      <td>21166.06</td>\n",
              "      <td>27595671000</td>\n",
              "    </tr>\n",
              "    <tr>\n",
              "      <th>4</th>\n",
              "      <td>Aug 19, 2022</td>\n",
              "      <td>23213.31</td>\n",
              "      <td>23213.31</td>\n",
              "      <td>20868.85</td>\n",
              "      <td>20877.55</td>\n",
              "      <td>20877.55</td>\n",
              "      <td>40509610260</td>\n",
              "    </tr>\n",
              "  </tbody>\n",
              "</table>\n",
              "</div>\n",
              "      <button class=\"colab-df-convert\" onclick=\"convertToInteractive('df-d4afdce8-62a6-49f9-8dfa-b628fbec7ce8')\"\n",
              "              title=\"Convert this dataframe to an interactive table.\"\n",
              "              style=\"display:none;\">\n",
              "        \n",
              "  <svg xmlns=\"http://www.w3.org/2000/svg\" height=\"24px\"viewBox=\"0 0 24 24\"\n",
              "       width=\"24px\">\n",
              "    <path d=\"M0 0h24v24H0V0z\" fill=\"none\"/>\n",
              "    <path d=\"M18.56 5.44l.94 2.06.94-2.06 2.06-.94-2.06-.94-.94-2.06-.94 2.06-2.06.94zm-11 1L8.5 8.5l.94-2.06 2.06-.94-2.06-.94L8.5 2.5l-.94 2.06-2.06.94zm10 10l.94 2.06.94-2.06 2.06-.94-2.06-.94-.94-2.06-.94 2.06-2.06.94z\"/><path d=\"M17.41 7.96l-1.37-1.37c-.4-.4-.92-.59-1.43-.59-.52 0-1.04.2-1.43.59L10.3 9.45l-7.72 7.72c-.78.78-.78 2.05 0 2.83L4 21.41c.39.39.9.59 1.41.59.51 0 1.02-.2 1.41-.59l7.78-7.78 2.81-2.81c.8-.78.8-2.07 0-2.86zM5.41 20L4 18.59l7.72-7.72 1.47 1.35L5.41 20z\"/>\n",
              "  </svg>\n",
              "      </button>\n",
              "      \n",
              "  <style>\n",
              "    .colab-df-container {\n",
              "      display:flex;\n",
              "      flex-wrap:wrap;\n",
              "      gap: 12px;\n",
              "    }\n",
              "\n",
              "    .colab-df-convert {\n",
              "      background-color: #E8F0FE;\n",
              "      border: none;\n",
              "      border-radius: 50%;\n",
              "      cursor: pointer;\n",
              "      display: none;\n",
              "      fill: #1967D2;\n",
              "      height: 32px;\n",
              "      padding: 0 0 0 0;\n",
              "      width: 32px;\n",
              "    }\n",
              "\n",
              "    .colab-df-convert:hover {\n",
              "      background-color: #E2EBFA;\n",
              "      box-shadow: 0px 1px 2px rgba(60, 64, 67, 0.3), 0px 1px 3px 1px rgba(60, 64, 67, 0.15);\n",
              "      fill: #174EA6;\n",
              "    }\n",
              "\n",
              "    [theme=dark] .colab-df-convert {\n",
              "      background-color: #3B4455;\n",
              "      fill: #D2E3FC;\n",
              "    }\n",
              "\n",
              "    [theme=dark] .colab-df-convert:hover {\n",
              "      background-color: #434B5C;\n",
              "      box-shadow: 0px 1px 3px 1px rgba(0, 0, 0, 0.15);\n",
              "      filter: drop-shadow(0px 1px 2px rgba(0, 0, 0, 0.3));\n",
              "      fill: #FFFFFF;\n",
              "    }\n",
              "  </style>\n",
              "\n",
              "      <script>\n",
              "        const buttonEl =\n",
              "          document.querySelector('#df-d4afdce8-62a6-49f9-8dfa-b628fbec7ce8 button.colab-df-convert');\n",
              "        buttonEl.style.display =\n",
              "          google.colab.kernel.accessAllowed ? 'block' : 'none';\n",
              "\n",
              "        async function convertToInteractive(key) {\n",
              "          const element = document.querySelector('#df-d4afdce8-62a6-49f9-8dfa-b628fbec7ce8');\n",
              "          const dataTable =\n",
              "            await google.colab.kernel.invokeFunction('convertToInteractive',\n",
              "                                                     [key], {});\n",
              "          if (!dataTable) return;\n",
              "\n",
              "          const docLinkHtml = 'Like what you see? Visit the ' +\n",
              "            '<a target=\"_blank\" href=https://colab.research.google.com/notebooks/data_table.ipynb>data table notebook</a>'\n",
              "            + ' to learn more about interactive tables.';\n",
              "          element.innerHTML = '';\n",
              "          dataTable['output_type'] = 'display_data';\n",
              "          await google.colab.output.renderOutput(dataTable, element);\n",
              "          const docLink = document.createElement('div');\n",
              "          docLink.innerHTML = docLinkHtml;\n",
              "          element.appendChild(docLink);\n",
              "        }\n",
              "      </script>\n",
              "    </div>\n",
              "  </div>\n",
              "  "
            ]
          },
          "metadata": {},
          "execution_count": 40
        }
      ]
    },
    {
      "cell_type": "code",
      "source": [
        "dataframe.dropna(inplace=True)"
      ],
      "metadata": {
        "id": "ftyJSpr_BH0L",
        "colab": {
          "base_uri": "https://localhost:8080/"
        },
        "outputId": "fe0e568a-2a94-4305-ce28-a38e2ad6398e"
      },
      "execution_count": 41,
      "outputs": [
        {
          "output_type": "stream",
          "name": "stderr",
          "text": [
            "/usr/local/lib/python3.7/dist-packages/pandas/util/_decorators.py:311: SettingWithCopyWarning: \n",
            "A value is trying to be set on a copy of a slice from a DataFrame\n",
            "\n",
            "See the caveats in the documentation: https://pandas.pydata.org/pandas-docs/stable/user_guide/indexing.html#returning-a-view-versus-a-copy\n",
            "  return func(*args, **kwargs)\n"
          ]
        }
      ]
    },
    {
      "cell_type": "code",
      "source": [
        "close = dataframe[\"Close*\"]"
      ],
      "metadata": {
        "id": "di60EA_bBgPy"
      },
      "execution_count": 42,
      "outputs": []
    },
    {
      "cell_type": "code",
      "source": [
        "close.head()"
      ],
      "metadata": {
        "colab": {
          "base_uri": "https://localhost:8080/"
        },
        "id": "2jF3YfDnBwcu",
        "outputId": "c92ec038-846a-4a05-ffee-e9a2df1b5b4f"
      },
      "execution_count": 43,
      "outputs": [
        {
          "output_type": "execute_result",
          "data": {
            "text/plain": [
              "0    21441.81\n",
              "1    21398.91\n",
              "2    21534.12\n",
              "3    21166.06\n",
              "4    20877.55\n",
              "Name: Close*, dtype: object"
            ]
          },
          "metadata": {},
          "execution_count": 43
        }
      ]
    },
    {
      "cell_type": "code",
      "source": [
        "close_yest = close.shift(-1)\n",
        "close_2d = close.shift(-2)\n",
        "close_3d = close.shift(-3)\n",
        "close_4d = close.shift(-4)"
      ],
      "metadata": {
        "id": "3kIMNeYEC63G"
      },
      "execution_count": 44,
      "outputs": []
    },
    {
      "cell_type": "code",
      "source": [
        "close_yest"
      ],
      "metadata": {
        "id": "dQ1vKgO5D5Qu",
        "colab": {
          "base_uri": "https://localhost:8080/"
        },
        "outputId": "76d92858-af04-4099-a584-57cd636cbbca"
      },
      "execution_count": 45,
      "outputs": [
        {
          "output_type": "execute_result",
          "data": {
            "text/plain": [
              "0     21398.91\n",
              "1     21534.12\n",
              "2     21166.06\n",
              "3     20877.55\n",
              "4     23212.74\n",
              "        ...   \n",
              "95    30314.33\n",
              "96    28720.27\n",
              "97    30425.86\n",
              "98    29862.92\n",
              "99         NaN\n",
              "Name: Close*, Length: 100, dtype: object"
            ]
          },
          "metadata": {},
          "execution_count": 45
        }
      ]
    },
    {
      "cell_type": "code",
      "source": [
        "dataframe['yesterday close'] = close_yest\n",
        "dataframe['2 days ago close'] = close_2d\n",
        "dataframe['3 days ago close'] = close_3d\n",
        "dataframe['4 days ago close'] = close_4d"
      ],
      "metadata": {
        "id": "Y6cW251oEh2s",
        "colab": {
          "base_uri": "https://localhost:8080/"
        },
        "outputId": "cc9d60d1-7bc4-4d6d-fa23-48d4bec7cc0d"
      },
      "execution_count": 46,
      "outputs": [
        {
          "output_type": "stream",
          "name": "stderr",
          "text": [
            "/usr/local/lib/python3.7/dist-packages/ipykernel_launcher.py:1: SettingWithCopyWarning: \n",
            "A value is trying to be set on a copy of a slice from a DataFrame.\n",
            "Try using .loc[row_indexer,col_indexer] = value instead\n",
            "\n",
            "See the caveats in the documentation: https://pandas.pydata.org/pandas-docs/stable/user_guide/indexing.html#returning-a-view-versus-a-copy\n",
            "  \"\"\"Entry point for launching an IPython kernel.\n",
            "/usr/local/lib/python3.7/dist-packages/ipykernel_launcher.py:2: SettingWithCopyWarning: \n",
            "A value is trying to be set on a copy of a slice from a DataFrame.\n",
            "Try using .loc[row_indexer,col_indexer] = value instead\n",
            "\n",
            "See the caveats in the documentation: https://pandas.pydata.org/pandas-docs/stable/user_guide/indexing.html#returning-a-view-versus-a-copy\n",
            "  \n",
            "/usr/local/lib/python3.7/dist-packages/ipykernel_launcher.py:3: SettingWithCopyWarning: \n",
            "A value is trying to be set on a copy of a slice from a DataFrame.\n",
            "Try using .loc[row_indexer,col_indexer] = value instead\n",
            "\n",
            "See the caveats in the documentation: https://pandas.pydata.org/pandas-docs/stable/user_guide/indexing.html#returning-a-view-versus-a-copy\n",
            "  This is separate from the ipykernel package so we can avoid doing imports until\n",
            "/usr/local/lib/python3.7/dist-packages/ipykernel_launcher.py:4: SettingWithCopyWarning: \n",
            "A value is trying to be set on a copy of a slice from a DataFrame.\n",
            "Try using .loc[row_indexer,col_indexer] = value instead\n",
            "\n",
            "See the caveats in the documentation: https://pandas.pydata.org/pandas-docs/stable/user_guide/indexing.html#returning-a-view-versus-a-copy\n",
            "  after removing the cwd from sys.path.\n"
          ]
        }
      ]
    },
    {
      "cell_type": "code",
      "source": [
        "dataframe.dropna(inplace=True)\n",
        "dataframe"
      ],
      "metadata": {
        "colab": {
          "base_uri": "https://localhost:8080/",
          "height": 870
        },
        "id": "BjuWnZZYFIGz",
        "outputId": "0b8ea28e-e67a-418b-f84e-d66836d8bb4b"
      },
      "execution_count": 47,
      "outputs": [
        {
          "output_type": "execute_result",
          "data": {
            "text/plain": [
              "            Date      Open      High       Low    Close* Adj Close**  \\\n",
              "0   Aug 23, 2022  21398.63  21510.65  20955.14  21441.81    21441.81   \n",
              "1   Aug 22, 2022  21531.46  21531.46  20939.18  21398.91    21398.91   \n",
              "2   Aug 21, 2022  21160.39  21668.85  21103.20  21534.12    21534.12   \n",
              "3   Aug 20, 2022  20872.84  21350.81  20856.73  21166.06    21166.06   \n",
              "4   Aug 19, 2022  23213.31  23213.31  20868.85  20877.55    20877.55   \n",
              "..           ...       ...       ...       ...       ...         ...   \n",
              "91  May 24, 2022  29101.13  29774.36  28786.59  29655.59    29655.59   \n",
              "92  May 23, 2022  30309.40  30590.59  28975.56  29098.91    29098.91   \n",
              "93  May 22, 2022  29432.47  30425.86  29275.18  30323.72    30323.72   \n",
              "94  May 21, 2022  29199.86  29588.87  29027.39  29432.23    29432.23   \n",
              "95  May 20, 2022  30311.12  30664.98  28793.61  29200.74    29200.74   \n",
              "\n",
              "         Volume yesterday close 2 days ago close 3 days ago close  \\\n",
              "0   32566796288        21398.91         21534.12         21166.06   \n",
              "1   31666498758        21534.12         21166.06         20877.55   \n",
              "2   23102307723        21166.06         20877.55         23212.74   \n",
              "3   27595671000        20877.55         23212.74         23336.00   \n",
              "4   40509610260        23212.74         23336.00         23883.29   \n",
              "..          ...             ...              ...              ...   \n",
              "91  26616506245        29098.91         30323.72         29432.23   \n",
              "92  31483454557        30323.72         29432.23         29200.74   \n",
              "93  21631532270        29432.23         29200.74         30314.33   \n",
              "94  17274840442        29200.74         30314.33         28720.27   \n",
              "95  30749382605        30314.33         28720.27         30425.86   \n",
              "\n",
              "   4 days ago close  \n",
              "0          20877.55  \n",
              "1          23212.74  \n",
              "2          23336.00  \n",
              "3          23883.29  \n",
              "4          24136.97  \n",
              "..              ...  \n",
              "91         29200.74  \n",
              "92         30314.33  \n",
              "93         28720.27  \n",
              "94         30425.86  \n",
              "95         29862.92  \n",
              "\n",
              "[96 rows x 11 columns]"
            ],
            "text/html": [
              "\n",
              "  <div id=\"df-2fbb54dc-5a90-40d9-a737-68771a86b0ad\">\n",
              "    <div class=\"colab-df-container\">\n",
              "      <div>\n",
              "<style scoped>\n",
              "    .dataframe tbody tr th:only-of-type {\n",
              "        vertical-align: middle;\n",
              "    }\n",
              "\n",
              "    .dataframe tbody tr th {\n",
              "        vertical-align: top;\n",
              "    }\n",
              "\n",
              "    .dataframe thead th {\n",
              "        text-align: right;\n",
              "    }\n",
              "</style>\n",
              "<table border=\"1\" class=\"dataframe\">\n",
              "  <thead>\n",
              "    <tr style=\"text-align: right;\">\n",
              "      <th></th>\n",
              "      <th>Date</th>\n",
              "      <th>Open</th>\n",
              "      <th>High</th>\n",
              "      <th>Low</th>\n",
              "      <th>Close*</th>\n",
              "      <th>Adj Close**</th>\n",
              "      <th>Volume</th>\n",
              "      <th>yesterday close</th>\n",
              "      <th>2 days ago close</th>\n",
              "      <th>3 days ago close</th>\n",
              "      <th>4 days ago close</th>\n",
              "    </tr>\n",
              "  </thead>\n",
              "  <tbody>\n",
              "    <tr>\n",
              "      <th>0</th>\n",
              "      <td>Aug 23, 2022</td>\n",
              "      <td>21398.63</td>\n",
              "      <td>21510.65</td>\n",
              "      <td>20955.14</td>\n",
              "      <td>21441.81</td>\n",
              "      <td>21441.81</td>\n",
              "      <td>32566796288</td>\n",
              "      <td>21398.91</td>\n",
              "      <td>21534.12</td>\n",
              "      <td>21166.06</td>\n",
              "      <td>20877.55</td>\n",
              "    </tr>\n",
              "    <tr>\n",
              "      <th>1</th>\n",
              "      <td>Aug 22, 2022</td>\n",
              "      <td>21531.46</td>\n",
              "      <td>21531.46</td>\n",
              "      <td>20939.18</td>\n",
              "      <td>21398.91</td>\n",
              "      <td>21398.91</td>\n",
              "      <td>31666498758</td>\n",
              "      <td>21534.12</td>\n",
              "      <td>21166.06</td>\n",
              "      <td>20877.55</td>\n",
              "      <td>23212.74</td>\n",
              "    </tr>\n",
              "    <tr>\n",
              "      <th>2</th>\n",
              "      <td>Aug 21, 2022</td>\n",
              "      <td>21160.39</td>\n",
              "      <td>21668.85</td>\n",
              "      <td>21103.20</td>\n",
              "      <td>21534.12</td>\n",
              "      <td>21534.12</td>\n",
              "      <td>23102307723</td>\n",
              "      <td>21166.06</td>\n",
              "      <td>20877.55</td>\n",
              "      <td>23212.74</td>\n",
              "      <td>23336.00</td>\n",
              "    </tr>\n",
              "    <tr>\n",
              "      <th>3</th>\n",
              "      <td>Aug 20, 2022</td>\n",
              "      <td>20872.84</td>\n",
              "      <td>21350.81</td>\n",
              "      <td>20856.73</td>\n",
              "      <td>21166.06</td>\n",
              "      <td>21166.06</td>\n",
              "      <td>27595671000</td>\n",
              "      <td>20877.55</td>\n",
              "      <td>23212.74</td>\n",
              "      <td>23336.00</td>\n",
              "      <td>23883.29</td>\n",
              "    </tr>\n",
              "    <tr>\n",
              "      <th>4</th>\n",
              "      <td>Aug 19, 2022</td>\n",
              "      <td>23213.31</td>\n",
              "      <td>23213.31</td>\n",
              "      <td>20868.85</td>\n",
              "      <td>20877.55</td>\n",
              "      <td>20877.55</td>\n",
              "      <td>40509610260</td>\n",
              "      <td>23212.74</td>\n",
              "      <td>23336.00</td>\n",
              "      <td>23883.29</td>\n",
              "      <td>24136.97</td>\n",
              "    </tr>\n",
              "    <tr>\n",
              "      <th>...</th>\n",
              "      <td>...</td>\n",
              "      <td>...</td>\n",
              "      <td>...</td>\n",
              "      <td>...</td>\n",
              "      <td>...</td>\n",
              "      <td>...</td>\n",
              "      <td>...</td>\n",
              "      <td>...</td>\n",
              "      <td>...</td>\n",
              "      <td>...</td>\n",
              "      <td>...</td>\n",
              "    </tr>\n",
              "    <tr>\n",
              "      <th>91</th>\n",
              "      <td>May 24, 2022</td>\n",
              "      <td>29101.13</td>\n",
              "      <td>29774.36</td>\n",
              "      <td>28786.59</td>\n",
              "      <td>29655.59</td>\n",
              "      <td>29655.59</td>\n",
              "      <td>26616506245</td>\n",
              "      <td>29098.91</td>\n",
              "      <td>30323.72</td>\n",
              "      <td>29432.23</td>\n",
              "      <td>29200.74</td>\n",
              "    </tr>\n",
              "    <tr>\n",
              "      <th>92</th>\n",
              "      <td>May 23, 2022</td>\n",
              "      <td>30309.40</td>\n",
              "      <td>30590.59</td>\n",
              "      <td>28975.56</td>\n",
              "      <td>29098.91</td>\n",
              "      <td>29098.91</td>\n",
              "      <td>31483454557</td>\n",
              "      <td>30323.72</td>\n",
              "      <td>29432.23</td>\n",
              "      <td>29200.74</td>\n",
              "      <td>30314.33</td>\n",
              "    </tr>\n",
              "    <tr>\n",
              "      <th>93</th>\n",
              "      <td>May 22, 2022</td>\n",
              "      <td>29432.47</td>\n",
              "      <td>30425.86</td>\n",
              "      <td>29275.18</td>\n",
              "      <td>30323.72</td>\n",
              "      <td>30323.72</td>\n",
              "      <td>21631532270</td>\n",
              "      <td>29432.23</td>\n",
              "      <td>29200.74</td>\n",
              "      <td>30314.33</td>\n",
              "      <td>28720.27</td>\n",
              "    </tr>\n",
              "    <tr>\n",
              "      <th>94</th>\n",
              "      <td>May 21, 2022</td>\n",
              "      <td>29199.86</td>\n",
              "      <td>29588.87</td>\n",
              "      <td>29027.39</td>\n",
              "      <td>29432.23</td>\n",
              "      <td>29432.23</td>\n",
              "      <td>17274840442</td>\n",
              "      <td>29200.74</td>\n",
              "      <td>30314.33</td>\n",
              "      <td>28720.27</td>\n",
              "      <td>30425.86</td>\n",
              "    </tr>\n",
              "    <tr>\n",
              "      <th>95</th>\n",
              "      <td>May 20, 2022</td>\n",
              "      <td>30311.12</td>\n",
              "      <td>30664.98</td>\n",
              "      <td>28793.61</td>\n",
              "      <td>29200.74</td>\n",
              "      <td>29200.74</td>\n",
              "      <td>30749382605</td>\n",
              "      <td>30314.33</td>\n",
              "      <td>28720.27</td>\n",
              "      <td>30425.86</td>\n",
              "      <td>29862.92</td>\n",
              "    </tr>\n",
              "  </tbody>\n",
              "</table>\n",
              "<p>96 rows × 11 columns</p>\n",
              "</div>\n",
              "      <button class=\"colab-df-convert\" onclick=\"convertToInteractive('df-2fbb54dc-5a90-40d9-a737-68771a86b0ad')\"\n",
              "              title=\"Convert this dataframe to an interactive table.\"\n",
              "              style=\"display:none;\">\n",
              "        \n",
              "  <svg xmlns=\"http://www.w3.org/2000/svg\" height=\"24px\"viewBox=\"0 0 24 24\"\n",
              "       width=\"24px\">\n",
              "    <path d=\"M0 0h24v24H0V0z\" fill=\"none\"/>\n",
              "    <path d=\"M18.56 5.44l.94 2.06.94-2.06 2.06-.94-2.06-.94-.94-2.06-.94 2.06-2.06.94zm-11 1L8.5 8.5l.94-2.06 2.06-.94-2.06-.94L8.5 2.5l-.94 2.06-2.06.94zm10 10l.94 2.06.94-2.06 2.06-.94-2.06-.94-.94-2.06-.94 2.06-2.06.94z\"/><path d=\"M17.41 7.96l-1.37-1.37c-.4-.4-.92-.59-1.43-.59-.52 0-1.04.2-1.43.59L10.3 9.45l-7.72 7.72c-.78.78-.78 2.05 0 2.83L4 21.41c.39.39.9.59 1.41.59.51 0 1.02-.2 1.41-.59l7.78-7.78 2.81-2.81c.8-.78.8-2.07 0-2.86zM5.41 20L4 18.59l7.72-7.72 1.47 1.35L5.41 20z\"/>\n",
              "  </svg>\n",
              "      </button>\n",
              "      \n",
              "  <style>\n",
              "    .colab-df-container {\n",
              "      display:flex;\n",
              "      flex-wrap:wrap;\n",
              "      gap: 12px;\n",
              "    }\n",
              "\n",
              "    .colab-df-convert {\n",
              "      background-color: #E8F0FE;\n",
              "      border: none;\n",
              "      border-radius: 50%;\n",
              "      cursor: pointer;\n",
              "      display: none;\n",
              "      fill: #1967D2;\n",
              "      height: 32px;\n",
              "      padding: 0 0 0 0;\n",
              "      width: 32px;\n",
              "    }\n",
              "\n",
              "    .colab-df-convert:hover {\n",
              "      background-color: #E2EBFA;\n",
              "      box-shadow: 0px 1px 2px rgba(60, 64, 67, 0.3), 0px 1px 3px 1px rgba(60, 64, 67, 0.15);\n",
              "      fill: #174EA6;\n",
              "    }\n",
              "\n",
              "    [theme=dark] .colab-df-convert {\n",
              "      background-color: #3B4455;\n",
              "      fill: #D2E3FC;\n",
              "    }\n",
              "\n",
              "    [theme=dark] .colab-df-convert:hover {\n",
              "      background-color: #434B5C;\n",
              "      box-shadow: 0px 1px 3px 1px rgba(0, 0, 0, 0.15);\n",
              "      filter: drop-shadow(0px 1px 2px rgba(0, 0, 0, 0.3));\n",
              "      fill: #FFFFFF;\n",
              "    }\n",
              "  </style>\n",
              "\n",
              "      <script>\n",
              "        const buttonEl =\n",
              "          document.querySelector('#df-2fbb54dc-5a90-40d9-a737-68771a86b0ad button.colab-df-convert');\n",
              "        buttonEl.style.display =\n",
              "          google.colab.kernel.accessAllowed ? 'block' : 'none';\n",
              "\n",
              "        async function convertToInteractive(key) {\n",
              "          const element = document.querySelector('#df-2fbb54dc-5a90-40d9-a737-68771a86b0ad');\n",
              "          const dataTable =\n",
              "            await google.colab.kernel.invokeFunction('convertToInteractive',\n",
              "                                                     [key], {});\n",
              "          if (!dataTable) return;\n",
              "\n",
              "          const docLinkHtml = 'Like what you see? Visit the ' +\n",
              "            '<a target=\"_blank\" href=https://colab.research.google.com/notebooks/data_table.ipynb>data table notebook</a>'\n",
              "            + ' to learn more about interactive tables.';\n",
              "          element.innerHTML = '';\n",
              "          dataTable['output_type'] = 'display_data';\n",
              "          await google.colab.output.renderOutput(dataTable, element);\n",
              "          const docLink = document.createElement('div');\n",
              "          docLink.innerHTML = docLinkHtml;\n",
              "          element.appendChild(docLink);\n",
              "        }\n",
              "      </script>\n",
              "    </div>\n",
              "  </div>\n",
              "  "
            ]
          },
          "metadata": {},
          "execution_count": 47
        }
      ]
    },
    {
      "cell_type": "code",
      "source": [
        "import sklearn\n",
        "from sklearn.model_selection import train_test_split"
      ],
      "metadata": {
        "id": "-5rVPnoW41zI"
      },
      "execution_count": 48,
      "outputs": []
    },
    {
      "cell_type": "code",
      "source": [
        "X = dataframe[[\"Open\", 'yesterday close', '2 days ago close', '3 days ago close' ,'4 days ago close']]\n",
        "x_train, x_test, y_train, y_test = train_test_split(X, dataframe[[\"Close*\"]], test_size=0.20, shuffle=False)\n",
        "x_train"
      ],
      "metadata": {
        "colab": {
          "base_uri": "https://localhost:8080/",
          "height": 485
        },
        "id": "aTrkGhOFGRDv",
        "outputId": "ba58890f-e575-481b-a08b-472f316cd0c9"
      },
      "execution_count": 49,
      "outputs": [
        {
          "output_type": "execute_result",
          "data": {
            "text/plain": [
              "        Open yesterday close 2 days ago close 3 days ago close  \\\n",
              "0   21398.63        21398.91         21534.12         21166.06   \n",
              "1   21531.46        21534.12         21166.06         20877.55   \n",
              "2   21160.39        21166.06         20877.55         23212.74   \n",
              "3   20872.84        20877.55         23212.74         23336.00   \n",
              "4   23213.31        23212.74         23336.00         23883.29   \n",
              "..       ...             ...              ...              ...   \n",
              "71  26737.58        26762.65         28360.81         29083.80   \n",
              "72  28373.51        28360.81         29083.80         30112.00   \n",
              "73  29084.67        29083.80         30112.00         30214.36   \n",
              "74  30110.33        30112.00         30214.36         31155.48   \n",
              "75  30215.28        30214.36         31155.48         31370.67   \n",
              "\n",
              "   4 days ago close  \n",
              "0          20877.55  \n",
              "1          23212.74  \n",
              "2          23336.00  \n",
              "3          23883.29  \n",
              "4          24136.97  \n",
              "..              ...  \n",
              "71         30112.00  \n",
              "72         30214.36  \n",
              "73         31155.48  \n",
              "74         31370.67  \n",
              "75         29906.66  \n",
              "\n",
              "[76 rows x 5 columns]"
            ],
            "text/html": [
              "\n",
              "  <div id=\"df-fa9208ff-1727-4331-853b-127234da5eca\">\n",
              "    <div class=\"colab-df-container\">\n",
              "      <div>\n",
              "<style scoped>\n",
              "    .dataframe tbody tr th:only-of-type {\n",
              "        vertical-align: middle;\n",
              "    }\n",
              "\n",
              "    .dataframe tbody tr th {\n",
              "        vertical-align: top;\n",
              "    }\n",
              "\n",
              "    .dataframe thead th {\n",
              "        text-align: right;\n",
              "    }\n",
              "</style>\n",
              "<table border=\"1\" class=\"dataframe\">\n",
              "  <thead>\n",
              "    <tr style=\"text-align: right;\">\n",
              "      <th></th>\n",
              "      <th>Open</th>\n",
              "      <th>yesterday close</th>\n",
              "      <th>2 days ago close</th>\n",
              "      <th>3 days ago close</th>\n",
              "      <th>4 days ago close</th>\n",
              "    </tr>\n",
              "  </thead>\n",
              "  <tbody>\n",
              "    <tr>\n",
              "      <th>0</th>\n",
              "      <td>21398.63</td>\n",
              "      <td>21398.91</td>\n",
              "      <td>21534.12</td>\n",
              "      <td>21166.06</td>\n",
              "      <td>20877.55</td>\n",
              "    </tr>\n",
              "    <tr>\n",
              "      <th>1</th>\n",
              "      <td>21531.46</td>\n",
              "      <td>21534.12</td>\n",
              "      <td>21166.06</td>\n",
              "      <td>20877.55</td>\n",
              "      <td>23212.74</td>\n",
              "    </tr>\n",
              "    <tr>\n",
              "      <th>2</th>\n",
              "      <td>21160.39</td>\n",
              "      <td>21166.06</td>\n",
              "      <td>20877.55</td>\n",
              "      <td>23212.74</td>\n",
              "      <td>23336.00</td>\n",
              "    </tr>\n",
              "    <tr>\n",
              "      <th>3</th>\n",
              "      <td>20872.84</td>\n",
              "      <td>20877.55</td>\n",
              "      <td>23212.74</td>\n",
              "      <td>23336.00</td>\n",
              "      <td>23883.29</td>\n",
              "    </tr>\n",
              "    <tr>\n",
              "      <th>4</th>\n",
              "      <td>23213.31</td>\n",
              "      <td>23212.74</td>\n",
              "      <td>23336.00</td>\n",
              "      <td>23883.29</td>\n",
              "      <td>24136.97</td>\n",
              "    </tr>\n",
              "    <tr>\n",
              "      <th>...</th>\n",
              "      <td>...</td>\n",
              "      <td>...</td>\n",
              "      <td>...</td>\n",
              "      <td>...</td>\n",
              "      <td>...</td>\n",
              "    </tr>\n",
              "    <tr>\n",
              "      <th>71</th>\n",
              "      <td>26737.58</td>\n",
              "      <td>26762.65</td>\n",
              "      <td>28360.81</td>\n",
              "      <td>29083.80</td>\n",
              "      <td>30112.00</td>\n",
              "    </tr>\n",
              "    <tr>\n",
              "      <th>72</th>\n",
              "      <td>28373.51</td>\n",
              "      <td>28360.81</td>\n",
              "      <td>29083.80</td>\n",
              "      <td>30112.00</td>\n",
              "      <td>30214.36</td>\n",
              "    </tr>\n",
              "    <tr>\n",
              "      <th>73</th>\n",
              "      <td>29084.67</td>\n",
              "      <td>29083.80</td>\n",
              "      <td>30112.00</td>\n",
              "      <td>30214.36</td>\n",
              "      <td>31155.48</td>\n",
              "    </tr>\n",
              "    <tr>\n",
              "      <th>74</th>\n",
              "      <td>30110.33</td>\n",
              "      <td>30112.00</td>\n",
              "      <td>30214.36</td>\n",
              "      <td>31155.48</td>\n",
              "      <td>31370.67</td>\n",
              "    </tr>\n",
              "    <tr>\n",
              "      <th>75</th>\n",
              "      <td>30215.28</td>\n",
              "      <td>30214.36</td>\n",
              "      <td>31155.48</td>\n",
              "      <td>31370.67</td>\n",
              "      <td>29906.66</td>\n",
              "    </tr>\n",
              "  </tbody>\n",
              "</table>\n",
              "<p>76 rows × 5 columns</p>\n",
              "</div>\n",
              "      <button class=\"colab-df-convert\" onclick=\"convertToInteractive('df-fa9208ff-1727-4331-853b-127234da5eca')\"\n",
              "              title=\"Convert this dataframe to an interactive table.\"\n",
              "              style=\"display:none;\">\n",
              "        \n",
              "  <svg xmlns=\"http://www.w3.org/2000/svg\" height=\"24px\"viewBox=\"0 0 24 24\"\n",
              "       width=\"24px\">\n",
              "    <path d=\"M0 0h24v24H0V0z\" fill=\"none\"/>\n",
              "    <path d=\"M18.56 5.44l.94 2.06.94-2.06 2.06-.94-2.06-.94-.94-2.06-.94 2.06-2.06.94zm-11 1L8.5 8.5l.94-2.06 2.06-.94-2.06-.94L8.5 2.5l-.94 2.06-2.06.94zm10 10l.94 2.06.94-2.06 2.06-.94-2.06-.94-.94-2.06-.94 2.06-2.06.94z\"/><path d=\"M17.41 7.96l-1.37-1.37c-.4-.4-.92-.59-1.43-.59-.52 0-1.04.2-1.43.59L10.3 9.45l-7.72 7.72c-.78.78-.78 2.05 0 2.83L4 21.41c.39.39.9.59 1.41.59.51 0 1.02-.2 1.41-.59l7.78-7.78 2.81-2.81c.8-.78.8-2.07 0-2.86zM5.41 20L4 18.59l7.72-7.72 1.47 1.35L5.41 20z\"/>\n",
              "  </svg>\n",
              "      </button>\n",
              "      \n",
              "  <style>\n",
              "    .colab-df-container {\n",
              "      display:flex;\n",
              "      flex-wrap:wrap;\n",
              "      gap: 12px;\n",
              "    }\n",
              "\n",
              "    .colab-df-convert {\n",
              "      background-color: #E8F0FE;\n",
              "      border: none;\n",
              "      border-radius: 50%;\n",
              "      cursor: pointer;\n",
              "      display: none;\n",
              "      fill: #1967D2;\n",
              "      height: 32px;\n",
              "      padding: 0 0 0 0;\n",
              "      width: 32px;\n",
              "    }\n",
              "\n",
              "    .colab-df-convert:hover {\n",
              "      background-color: #E2EBFA;\n",
              "      box-shadow: 0px 1px 2px rgba(60, 64, 67, 0.3), 0px 1px 3px 1px rgba(60, 64, 67, 0.15);\n",
              "      fill: #174EA6;\n",
              "    }\n",
              "\n",
              "    [theme=dark] .colab-df-convert {\n",
              "      background-color: #3B4455;\n",
              "      fill: #D2E3FC;\n",
              "    }\n",
              "\n",
              "    [theme=dark] .colab-df-convert:hover {\n",
              "      background-color: #434B5C;\n",
              "      box-shadow: 0px 1px 3px 1px rgba(0, 0, 0, 0.15);\n",
              "      filter: drop-shadow(0px 1px 2px rgba(0, 0, 0, 0.3));\n",
              "      fill: #FFFFFF;\n",
              "    }\n",
              "  </style>\n",
              "\n",
              "      <script>\n",
              "        const buttonEl =\n",
              "          document.querySelector('#df-fa9208ff-1727-4331-853b-127234da5eca button.colab-df-convert');\n",
              "        buttonEl.style.display =\n",
              "          google.colab.kernel.accessAllowed ? 'block' : 'none';\n",
              "\n",
              "        async function convertToInteractive(key) {\n",
              "          const element = document.querySelector('#df-fa9208ff-1727-4331-853b-127234da5eca');\n",
              "          const dataTable =\n",
              "            await google.colab.kernel.invokeFunction('convertToInteractive',\n",
              "                                                     [key], {});\n",
              "          if (!dataTable) return;\n",
              "\n",
              "          const docLinkHtml = 'Like what you see? Visit the ' +\n",
              "            '<a target=\"_blank\" href=https://colab.research.google.com/notebooks/data_table.ipynb>data table notebook</a>'\n",
              "            + ' to learn more about interactive tables.';\n",
              "          element.innerHTML = '';\n",
              "          dataTable['output_type'] = 'display_data';\n",
              "          await google.colab.output.renderOutput(dataTable, element);\n",
              "          const docLink = document.createElement('div');\n",
              "          docLink.innerHTML = docLinkHtml;\n",
              "          element.appendChild(docLink);\n",
              "        }\n",
              "      </script>\n",
              "    </div>\n",
              "  </div>\n",
              "  "
            ]
          },
          "metadata": {},
          "execution_count": 49
        }
      ]
    },
    {
      "cell_type": "markdown",
      "source": [
        "# LinearRegression"
      ],
      "metadata": {
        "id": "b1WLix05tNwL"
      }
    },
    {
      "cell_type": "code",
      "source": [
        "from sklearn.linear_model import LinearRegression"
      ],
      "metadata": {
        "id": "anvy8Aa-Jg2K"
      },
      "execution_count": 50,
      "outputs": []
    },
    {
      "cell_type": "code",
      "source": [
        "lm = LinearRegression()\n",
        "lm.fit(x_train,y_train)"
      ],
      "metadata": {
        "colab": {
          "base_uri": "https://localhost:8080/"
        },
        "id": "IJvUbPzBMb4L",
        "outputId": "a87fb7bd-68f7-4974-93e8-1c16b328b661"
      },
      "execution_count": 51,
      "outputs": [
        {
          "output_type": "execute_result",
          "data": {
            "text/plain": [
              "LinearRegression()"
            ]
          },
          "metadata": {},
          "execution_count": 51
        }
      ]
    },
    {
      "cell_type": "code",
      "source": [
        "pred= lm.predict(x_test)\n",
        "pred"
      ],
      "metadata": {
        "colab": {
          "base_uri": "https://localhost:8080/"
        },
        "id": "GF6kvxLMM2rn",
        "outputId": "2cb77ca6-1c4a-48c5-d323-157dda59bfd6"
      },
      "execution_count": 52,
      "outputs": [
        {
          "output_type": "execute_result",
          "data": {
            "text/plain": [
              "array([[29839.86490104],\n",
              "       [30089.72024571],\n",
              "       [28616.22744293],\n",
              "       [28680.13780848],\n",
              "       [28229.52287108],\n",
              "       [29065.24097166],\n",
              "       [28729.32018052],\n",
              "       [30578.68412811],\n",
              "       [30497.98604845],\n",
              "       [28260.45171173],\n",
              "       [28869.49356051],\n",
              "       [27478.05062758],\n",
              "       [28097.00263192],\n",
              "       [28272.19918573],\n",
              "       [28532.98936525],\n",
              "       [28015.26038465],\n",
              "       [28896.44321149],\n",
              "       [28440.54753466],\n",
              "       [27875.16620818],\n",
              "       [29091.31704291]])"
            ]
          },
          "metadata": {},
          "execution_count": 52
        }
      ]
    },
    {
      "cell_type": "markdown",
      "source": [
        "#mean absolute error"
      ],
      "metadata": {
        "id": "1QgQNUpctgvj"
      }
    },
    {
      "cell_type": "code",
      "source": [
        "from sklearn import metrics\n",
        "metrics.mean_absolute_error(y_test, pred)"
      ],
      "metadata": {
        "colab": {
          "base_uri": "https://localhost:8080/"
        },
        "id": "GDioJJuxQpzL",
        "outputId": "0d7dbe20-338a-483c-da91-60a1bf746c1e"
      },
      "execution_count": 53,
      "outputs": [
        {
          "output_type": "execute_result",
          "data": {
            "text/plain": [
              "1240.12610968112"
            ]
          },
          "metadata": {},
          "execution_count": 53
        }
      ]
    },
    {
      "cell_type": "code",
      "source": [
        "type(close)"
      ],
      "metadata": {
        "colab": {
          "base_uri": "https://localhost:8080/"
        },
        "id": "0jZCQIsD8MIp",
        "outputId": "0d27d9e6-7dfe-4959-dcca-10a8c4b24eea"
      },
      "execution_count": 91,
      "outputs": [
        {
          "output_type": "execute_result",
          "data": {
            "text/plain": [
              "pandas.core.series.Series"
            ]
          },
          "metadata": {},
          "execution_count": 91
        }
      ]
    },
    {
      "cell_type": "code",
      "source": [
        "thisClosePredict= lm.predict([[\n",
        "    dataframe[\"Open\"][0],\n",
        "    dataframe[\"yesterday close\"][0],\n",
        "    dataframe[\"2 days ago close\"][0],\n",
        "    dataframe[\"3 days ago close\"][0],\n",
        "    dataframe[\"4 days ago close\"][0],]]\n",
        ")"
      ],
      "metadata": {
        "colab": {
          "base_uri": "https://localhost:8080/"
        },
        "id": "CMhwxv_r82Vx",
        "outputId": "facc1581-14ee-49dd-a171-89e34cc7a7d0"
      },
      "execution_count": 100,
      "outputs": [
        {
          "output_type": "stream",
          "name": "stderr",
          "text": [
            "/usr/local/lib/python3.7/dist-packages/sklearn/base.py:451: UserWarning: X does not have valid feature names, but LinearRegression was fitted with feature names\n",
            "  \"X does not have valid feature names, but\"\n",
            "/usr/local/lib/python3.7/dist-packages/sklearn/base.py:566: FutureWarning: Arrays of bytes/strings is being converted to decimal numbers if dtype='numeric'. This behavior is deprecated in 0.24 and will be removed in 1.1 (renaming of 0.26). Please convert your data to numeric values explicitly instead.\n",
            "  X = check_array(X, **check_params)\n"
          ]
        }
      ]
    },
    {
      "cell_type": "code",
      "source": [
        "thisClosePredict[0][0]"
      ],
      "metadata": {
        "colab": {
          "base_uri": "https://localhost:8080/"
        },
        "id": "10AeTmGyLZgZ",
        "outputId": "1ec4548a-968f-456e-e0ac-82afba90a88f"
      },
      "execution_count": 103,
      "outputs": [
        {
          "output_type": "execute_result",
          "data": {
            "text/plain": [
              "21521.15079452409"
            ]
          },
          "metadata": {},
          "execution_count": 103
        }
      ]
    }
  ]
}