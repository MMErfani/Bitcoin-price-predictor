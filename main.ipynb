{
  "nbformat": 4,
  "nbformat_minor": 0,
  "metadata": {
    "colab": {
      "name": "main.ipynb",
      "provenance": [],
      "collapsed_sections": []
    },
    "kernelspec": {
      "name": "python3",
      "display_name": "Python 3"
    },
    "language_info": {
      "name": "python"
    }
  },
  "cells": [
    {
      "cell_type": "code",
      "execution_count": 1,
      "metadata": {
        "id": "t2gC_MGe3mKl"
      },
      "outputs": [],
      "source": [
        "import requests\n",
        "import pandas as pd"
      ]
    },
    {
      "cell_type": "code",
      "source": [
        "url = 'https://finance.yahoo.com/quote/BTC-USD/history?p=BTC-USD'\n",
        "r = requests.get(url, headers={'User-Agent': 'Mozilla/5.0 (X11; Ubuntu; Linux x86_64; rv:15.0) Gecko/20100101 Firefox/15.0.1'})\n",
        "read_html_pandas_data = pd.read_html(r.text)\n",
        "dataframe = read_html_pandas_data[0][:-1]"
      ],
      "metadata": {
        "id": "xqoRXXDu4rsq"
      },
      "execution_count": 2,
      "outputs": []
    },
    {
      "cell_type": "code",
      "source": [
        "dataframe.head()"
      ],
      "metadata": {
        "colab": {
          "base_uri": "https://localhost:8080/",
          "height": 206
        },
        "id": "wbmfK37PBCa3",
        "outputId": "5db87ea1-5ab8-4cb5-a574-81b6948df29e"
      },
      "execution_count": 4,
      "outputs": [
        {
          "output_type": "execute_result",
          "data": {
            "text/plain": [
              "           Date      Open      High       Low    Close* Adj Close**  \\\n",
              "0  Aug 23, 2022  21398.63  21510.24  20955.14  21398.94    21398.94   \n",
              "1  Aug 22, 2022  21531.46  21531.46  20939.18  21398.91    21398.91   \n",
              "2  Aug 21, 2022  21160.39  21668.85  21103.20  21534.12    21534.12   \n",
              "3  Aug 20, 2022  20872.84  21350.81  20856.73  21166.06    21166.06   \n",
              "4  Aug 19, 2022  23213.31  23213.31  20868.85  20877.55    20877.55   \n",
              "\n",
              "        Volume  \n",
              "0  32775036928  \n",
              "1  31666498758  \n",
              "2  23102307723  \n",
              "3  27595671000  \n",
              "4  40509610260  "
            ],
            "text/html": [
              "\n",
              "  <div id=\"df-1c506e77-a2f0-495b-8dfc-c06ba1604612\">\n",
              "    <div class=\"colab-df-container\">\n",
              "      <div>\n",
              "<style scoped>\n",
              "    .dataframe tbody tr th:only-of-type {\n",
              "        vertical-align: middle;\n",
              "    }\n",
              "\n",
              "    .dataframe tbody tr th {\n",
              "        vertical-align: top;\n",
              "    }\n",
              "\n",
              "    .dataframe thead th {\n",
              "        text-align: right;\n",
              "    }\n",
              "</style>\n",
              "<table border=\"1\" class=\"dataframe\">\n",
              "  <thead>\n",
              "    <tr style=\"text-align: right;\">\n",
              "      <th></th>\n",
              "      <th>Date</th>\n",
              "      <th>Open</th>\n",
              "      <th>High</th>\n",
              "      <th>Low</th>\n",
              "      <th>Close*</th>\n",
              "      <th>Adj Close**</th>\n",
              "      <th>Volume</th>\n",
              "    </tr>\n",
              "  </thead>\n",
              "  <tbody>\n",
              "    <tr>\n",
              "      <th>0</th>\n",
              "      <td>Aug 23, 2022</td>\n",
              "      <td>21398.63</td>\n",
              "      <td>21510.24</td>\n",
              "      <td>20955.14</td>\n",
              "      <td>21398.94</td>\n",
              "      <td>21398.94</td>\n",
              "      <td>32775036928</td>\n",
              "    </tr>\n",
              "    <tr>\n",
              "      <th>1</th>\n",
              "      <td>Aug 22, 2022</td>\n",
              "      <td>21531.46</td>\n",
              "      <td>21531.46</td>\n",
              "      <td>20939.18</td>\n",
              "      <td>21398.91</td>\n",
              "      <td>21398.91</td>\n",
              "      <td>31666498758</td>\n",
              "    </tr>\n",
              "    <tr>\n",
              "      <th>2</th>\n",
              "      <td>Aug 21, 2022</td>\n",
              "      <td>21160.39</td>\n",
              "      <td>21668.85</td>\n",
              "      <td>21103.20</td>\n",
              "      <td>21534.12</td>\n",
              "      <td>21534.12</td>\n",
              "      <td>23102307723</td>\n",
              "    </tr>\n",
              "    <tr>\n",
              "      <th>3</th>\n",
              "      <td>Aug 20, 2022</td>\n",
              "      <td>20872.84</td>\n",
              "      <td>21350.81</td>\n",
              "      <td>20856.73</td>\n",
              "      <td>21166.06</td>\n",
              "      <td>21166.06</td>\n",
              "      <td>27595671000</td>\n",
              "    </tr>\n",
              "    <tr>\n",
              "      <th>4</th>\n",
              "      <td>Aug 19, 2022</td>\n",
              "      <td>23213.31</td>\n",
              "      <td>23213.31</td>\n",
              "      <td>20868.85</td>\n",
              "      <td>20877.55</td>\n",
              "      <td>20877.55</td>\n",
              "      <td>40509610260</td>\n",
              "    </tr>\n",
              "  </tbody>\n",
              "</table>\n",
              "</div>\n",
              "      <button class=\"colab-df-convert\" onclick=\"convertToInteractive('df-1c506e77-a2f0-495b-8dfc-c06ba1604612')\"\n",
              "              title=\"Convert this dataframe to an interactive table.\"\n",
              "              style=\"display:none;\">\n",
              "        \n",
              "  <svg xmlns=\"http://www.w3.org/2000/svg\" height=\"24px\"viewBox=\"0 0 24 24\"\n",
              "       width=\"24px\">\n",
              "    <path d=\"M0 0h24v24H0V0z\" fill=\"none\"/>\n",
              "    <path d=\"M18.56 5.44l.94 2.06.94-2.06 2.06-.94-2.06-.94-.94-2.06-.94 2.06-2.06.94zm-11 1L8.5 8.5l.94-2.06 2.06-.94-2.06-.94L8.5 2.5l-.94 2.06-2.06.94zm10 10l.94 2.06.94-2.06 2.06-.94-2.06-.94-.94-2.06-.94 2.06-2.06.94z\"/><path d=\"M17.41 7.96l-1.37-1.37c-.4-.4-.92-.59-1.43-.59-.52 0-1.04.2-1.43.59L10.3 9.45l-7.72 7.72c-.78.78-.78 2.05 0 2.83L4 21.41c.39.39.9.59 1.41.59.51 0 1.02-.2 1.41-.59l7.78-7.78 2.81-2.81c.8-.78.8-2.07 0-2.86zM5.41 20L4 18.59l7.72-7.72 1.47 1.35L5.41 20z\"/>\n",
              "  </svg>\n",
              "      </button>\n",
              "      \n",
              "  <style>\n",
              "    .colab-df-container {\n",
              "      display:flex;\n",
              "      flex-wrap:wrap;\n",
              "      gap: 12px;\n",
              "    }\n",
              "\n",
              "    .colab-df-convert {\n",
              "      background-color: #E8F0FE;\n",
              "      border: none;\n",
              "      border-radius: 50%;\n",
              "      cursor: pointer;\n",
              "      display: none;\n",
              "      fill: #1967D2;\n",
              "      height: 32px;\n",
              "      padding: 0 0 0 0;\n",
              "      width: 32px;\n",
              "    }\n",
              "\n",
              "    .colab-df-convert:hover {\n",
              "      background-color: #E2EBFA;\n",
              "      box-shadow: 0px 1px 2px rgba(60, 64, 67, 0.3), 0px 1px 3px 1px rgba(60, 64, 67, 0.15);\n",
              "      fill: #174EA6;\n",
              "    }\n",
              "\n",
              "    [theme=dark] .colab-df-convert {\n",
              "      background-color: #3B4455;\n",
              "      fill: #D2E3FC;\n",
              "    }\n",
              "\n",
              "    [theme=dark] .colab-df-convert:hover {\n",
              "      background-color: #434B5C;\n",
              "      box-shadow: 0px 1px 3px 1px rgba(0, 0, 0, 0.15);\n",
              "      filter: drop-shadow(0px 1px 2px rgba(0, 0, 0, 0.3));\n",
              "      fill: #FFFFFF;\n",
              "    }\n",
              "  </style>\n",
              "\n",
              "      <script>\n",
              "        const buttonEl =\n",
              "          document.querySelector('#df-1c506e77-a2f0-495b-8dfc-c06ba1604612 button.colab-df-convert');\n",
              "        buttonEl.style.display =\n",
              "          google.colab.kernel.accessAllowed ? 'block' : 'none';\n",
              "\n",
              "        async function convertToInteractive(key) {\n",
              "          const element = document.querySelector('#df-1c506e77-a2f0-495b-8dfc-c06ba1604612');\n",
              "          const dataTable =\n",
              "            await google.colab.kernel.invokeFunction('convertToInteractive',\n",
              "                                                     [key], {});\n",
              "          if (!dataTable) return;\n",
              "\n",
              "          const docLinkHtml = 'Like what you see? Visit the ' +\n",
              "            '<a target=\"_blank\" href=https://colab.research.google.com/notebooks/data_table.ipynb>data table notebook</a>'\n",
              "            + ' to learn more about interactive tables.';\n",
              "          element.innerHTML = '';\n",
              "          dataTable['output_type'] = 'display_data';\n",
              "          await google.colab.output.renderOutput(dataTable, element);\n",
              "          const docLink = document.createElement('div');\n",
              "          docLink.innerHTML = docLinkHtml;\n",
              "          element.appendChild(docLink);\n",
              "        }\n",
              "      </script>\n",
              "    </div>\n",
              "  </div>\n",
              "  "
            ]
          },
          "metadata": {},
          "execution_count": 4
        }
      ]
    },
    {
      "cell_type": "code",
      "source": [
        "dataframe.dropna(inplace=True)"
      ],
      "metadata": {
        "id": "ftyJSpr_BH0L",
        "colab": {
          "base_uri": "https://localhost:8080/"
        },
        "outputId": "26f5e8c7-98a5-480f-c488-d2e7626a5942"
      },
      "execution_count": 5,
      "outputs": [
        {
          "output_type": "stream",
          "name": "stderr",
          "text": [
            "/usr/local/lib/python3.7/dist-packages/pandas/util/_decorators.py:311: SettingWithCopyWarning: \n",
            "A value is trying to be set on a copy of a slice from a DataFrame\n",
            "\n",
            "See the caveats in the documentation: https://pandas.pydata.org/pandas-docs/stable/user_guide/indexing.html#returning-a-view-versus-a-copy\n",
            "  return func(*args, **kwargs)\n"
          ]
        }
      ]
    },
    {
      "cell_type": "code",
      "source": [
        "close = dataframe[\"Close*\"]"
      ],
      "metadata": {
        "id": "di60EA_bBgPy"
      },
      "execution_count": 6,
      "outputs": []
    },
    {
      "cell_type": "code",
      "source": [
        "close.head()"
      ],
      "metadata": {
        "colab": {
          "base_uri": "https://localhost:8080/"
        },
        "id": "2jF3YfDnBwcu",
        "outputId": "3d3a1bec-34eb-4d46-b494-ec69379c2752"
      },
      "execution_count": 8,
      "outputs": [
        {
          "output_type": "execute_result",
          "data": {
            "text/plain": [
              "0    21398.94\n",
              "1    21398.91\n",
              "2    21534.12\n",
              "3    21166.06\n",
              "4    20877.55\n",
              "Name: Close*, dtype: object"
            ]
          },
          "metadata": {},
          "execution_count": 8
        }
      ]
    },
    {
      "cell_type": "code",
      "source": [
        "close_yest = close.shift(-1)\n",
        "close_2d = close.shift(-2)\n",
        "close_3d = close.shift(-3)\n",
        "close_4d = close.shift(-4)"
      ],
      "metadata": {
        "id": "3kIMNeYEC63G"
      },
      "execution_count": 9,
      "outputs": []
    },
    {
      "cell_type": "code",
      "source": [
        "close_yest"
      ],
      "metadata": {
        "id": "dQ1vKgO5D5Qu",
        "colab": {
          "base_uri": "https://localhost:8080/"
        },
        "outputId": "7dc2d18b-8e0f-4776-8225-13fe7d8406f4"
      },
      "execution_count": 14,
      "outputs": [
        {
          "output_type": "execute_result",
          "data": {
            "text/plain": [
              "0     21398.91\n",
              "1     21534.12\n",
              "2     21166.06\n",
              "3     20877.55\n",
              "4     23212.74\n",
              "        ...   \n",
              "95    30314.33\n",
              "96    28720.27\n",
              "97    30425.86\n",
              "98    29862.92\n",
              "99         NaN\n",
              "Name: Close*, Length: 100, dtype: object"
            ]
          },
          "metadata": {},
          "execution_count": 14
        }
      ]
    },
    {
      "cell_type": "code",
      "source": [
        "dataframe['yesterday close'] = close_yest\n",
        "dataframe['2 day ago close'] = close_2d\n",
        "dataframe['3 day ago close'] = close_3d\n",
        "dataframe['4 day ago close'] = close_4d"
      ],
      "metadata": {
        "id": "Y6cW251oEh2s",
        "colab": {
          "base_uri": "https://localhost:8080/"
        },
        "outputId": "6b225c42-9792-4c4c-9e20-106b3723b111"
      },
      "execution_count": 15,
      "outputs": [
        {
          "output_type": "stream",
          "name": "stderr",
          "text": [
            "/usr/local/lib/python3.7/dist-packages/ipykernel_launcher.py:1: SettingWithCopyWarning: \n",
            "A value is trying to be set on a copy of a slice from a DataFrame.\n",
            "Try using .loc[row_indexer,col_indexer] = value instead\n",
            "\n",
            "See the caveats in the documentation: https://pandas.pydata.org/pandas-docs/stable/user_guide/indexing.html#returning-a-view-versus-a-copy\n",
            "  \"\"\"Entry point for launching an IPython kernel.\n",
            "/usr/local/lib/python3.7/dist-packages/ipykernel_launcher.py:2: SettingWithCopyWarning: \n",
            "A value is trying to be set on a copy of a slice from a DataFrame.\n",
            "Try using .loc[row_indexer,col_indexer] = value instead\n",
            "\n",
            "See the caveats in the documentation: https://pandas.pydata.org/pandas-docs/stable/user_guide/indexing.html#returning-a-view-versus-a-copy\n",
            "  \n",
            "/usr/local/lib/python3.7/dist-packages/ipykernel_launcher.py:3: SettingWithCopyWarning: \n",
            "A value is trying to be set on a copy of a slice from a DataFrame.\n",
            "Try using .loc[row_indexer,col_indexer] = value instead\n",
            "\n",
            "See the caveats in the documentation: https://pandas.pydata.org/pandas-docs/stable/user_guide/indexing.html#returning-a-view-versus-a-copy\n",
            "  This is separate from the ipykernel package so we can avoid doing imports until\n",
            "/usr/local/lib/python3.7/dist-packages/ipykernel_launcher.py:4: SettingWithCopyWarning: \n",
            "A value is trying to be set on a copy of a slice from a DataFrame.\n",
            "Try using .loc[row_indexer,col_indexer] = value instead\n",
            "\n",
            "See the caveats in the documentation: https://pandas.pydata.org/pandas-docs/stable/user_guide/indexing.html#returning-a-view-versus-a-copy\n",
            "  after removing the cwd from sys.path.\n"
          ]
        }
      ]
    },
    {
      "cell_type": "code",
      "source": [
        "dataframe.dropna(inplace=True)\n",
        "dataframe"
      ],
      "metadata": {
        "colab": {
          "base_uri": "https://localhost:8080/",
          "height": 468
        },
        "id": "BjuWnZZYFIGz",
        "outputId": "71c776e6-2d15-456d-f23e-19b4dbd9411f"
      },
      "execution_count": 17,
      "outputs": [
        {
          "output_type": "execute_result",
          "data": {
            "text/plain": [
              "            Date      Open      High       Low    Close* Adj Close**  \\\n",
              "0   Aug 23, 2022  21398.63  21510.24  20955.14  21398.94    21398.94   \n",
              "1   Aug 22, 2022  21531.46  21531.46  20939.18  21398.91    21398.91   \n",
              "2   Aug 21, 2022  21160.39  21668.85  21103.20  21534.12    21534.12   \n",
              "3   Aug 20, 2022  20872.84  21350.81  20856.73  21166.06    21166.06   \n",
              "4   Aug 19, 2022  23213.31  23213.31  20868.85  20877.55    20877.55   \n",
              "..           ...       ...       ...       ...       ...         ...   \n",
              "91  May 24, 2022  29101.13  29774.36  28786.59  29655.59    29655.59   \n",
              "92  May 23, 2022  30309.40  30590.59  28975.56  29098.91    29098.91   \n",
              "93  May 22, 2022  29432.47  30425.86  29275.18  30323.72    30323.72   \n",
              "94  May 21, 2022  29199.86  29588.87  29027.39  29432.23    29432.23   \n",
              "95  May 20, 2022  30311.12  30664.98  28793.61  29200.74    29200.74   \n",
              "\n",
              "         Volume yesterday close 2 day ago close 3 day ago close  \\\n",
              "0   32775036928        21398.91        21534.12        21166.06   \n",
              "1   31666498758        21534.12        21166.06        20877.55   \n",
              "2   23102307723        21166.06        20877.55        23212.74   \n",
              "3   27595671000        20877.55        23212.74        23336.00   \n",
              "4   40509610260        23212.74        23336.00        23883.29   \n",
              "..          ...             ...             ...             ...   \n",
              "91  26616506245        29098.91        30323.72        29432.23   \n",
              "92  31483454557        30323.72        29432.23        29200.74   \n",
              "93  21631532270        29432.23        29200.74        30314.33   \n",
              "94  17274840442        29200.74        30314.33        28720.27   \n",
              "95  30749382605        30314.33        28720.27        30425.86   \n",
              "\n",
              "   4 day ago close  \n",
              "0         20877.55  \n",
              "1         23212.74  \n",
              "2         23336.00  \n",
              "3         23883.29  \n",
              "4         24136.97  \n",
              "..             ...  \n",
              "91        29200.74  \n",
              "92        30314.33  \n",
              "93        28720.27  \n",
              "94        30425.86  \n",
              "95        29862.92  \n",
              "\n",
              "[96 rows x 11 columns]"
            ],
            "text/html": [
              "\n",
              "  <div id=\"df-4a18ecda-bbcf-4067-aee1-cba6a0e9f0d4\">\n",
              "    <div class=\"colab-df-container\">\n",
              "      <div>\n",
              "<style scoped>\n",
              "    .dataframe tbody tr th:only-of-type {\n",
              "        vertical-align: middle;\n",
              "    }\n",
              "\n",
              "    .dataframe tbody tr th {\n",
              "        vertical-align: top;\n",
              "    }\n",
              "\n",
              "    .dataframe thead th {\n",
              "        text-align: right;\n",
              "    }\n",
              "</style>\n",
              "<table border=\"1\" class=\"dataframe\">\n",
              "  <thead>\n",
              "    <tr style=\"text-align: right;\">\n",
              "      <th></th>\n",
              "      <th>Date</th>\n",
              "      <th>Open</th>\n",
              "      <th>High</th>\n",
              "      <th>Low</th>\n",
              "      <th>Close*</th>\n",
              "      <th>Adj Close**</th>\n",
              "      <th>Volume</th>\n",
              "      <th>yesterday close</th>\n",
              "      <th>2 day ago close</th>\n",
              "      <th>3 day ago close</th>\n",
              "      <th>4 day ago close</th>\n",
              "    </tr>\n",
              "  </thead>\n",
              "  <tbody>\n",
              "    <tr>\n",
              "      <th>0</th>\n",
              "      <td>Aug 23, 2022</td>\n",
              "      <td>21398.63</td>\n",
              "      <td>21510.24</td>\n",
              "      <td>20955.14</td>\n",
              "      <td>21398.94</td>\n",
              "      <td>21398.94</td>\n",
              "      <td>32775036928</td>\n",
              "      <td>21398.91</td>\n",
              "      <td>21534.12</td>\n",
              "      <td>21166.06</td>\n",
              "      <td>20877.55</td>\n",
              "    </tr>\n",
              "    <tr>\n",
              "      <th>1</th>\n",
              "      <td>Aug 22, 2022</td>\n",
              "      <td>21531.46</td>\n",
              "      <td>21531.46</td>\n",
              "      <td>20939.18</td>\n",
              "      <td>21398.91</td>\n",
              "      <td>21398.91</td>\n",
              "      <td>31666498758</td>\n",
              "      <td>21534.12</td>\n",
              "      <td>21166.06</td>\n",
              "      <td>20877.55</td>\n",
              "      <td>23212.74</td>\n",
              "    </tr>\n",
              "    <tr>\n",
              "      <th>2</th>\n",
              "      <td>Aug 21, 2022</td>\n",
              "      <td>21160.39</td>\n",
              "      <td>21668.85</td>\n",
              "      <td>21103.20</td>\n",
              "      <td>21534.12</td>\n",
              "      <td>21534.12</td>\n",
              "      <td>23102307723</td>\n",
              "      <td>21166.06</td>\n",
              "      <td>20877.55</td>\n",
              "      <td>23212.74</td>\n",
              "      <td>23336.00</td>\n",
              "    </tr>\n",
              "    <tr>\n",
              "      <th>3</th>\n",
              "      <td>Aug 20, 2022</td>\n",
              "      <td>20872.84</td>\n",
              "      <td>21350.81</td>\n",
              "      <td>20856.73</td>\n",
              "      <td>21166.06</td>\n",
              "      <td>21166.06</td>\n",
              "      <td>27595671000</td>\n",
              "      <td>20877.55</td>\n",
              "      <td>23212.74</td>\n",
              "      <td>23336.00</td>\n",
              "      <td>23883.29</td>\n",
              "    </tr>\n",
              "    <tr>\n",
              "      <th>4</th>\n",
              "      <td>Aug 19, 2022</td>\n",
              "      <td>23213.31</td>\n",
              "      <td>23213.31</td>\n",
              "      <td>20868.85</td>\n",
              "      <td>20877.55</td>\n",
              "      <td>20877.55</td>\n",
              "      <td>40509610260</td>\n",
              "      <td>23212.74</td>\n",
              "      <td>23336.00</td>\n",
              "      <td>23883.29</td>\n",
              "      <td>24136.97</td>\n",
              "    </tr>\n",
              "    <tr>\n",
              "      <th>...</th>\n",
              "      <td>...</td>\n",
              "      <td>...</td>\n",
              "      <td>...</td>\n",
              "      <td>...</td>\n",
              "      <td>...</td>\n",
              "      <td>...</td>\n",
              "      <td>...</td>\n",
              "      <td>...</td>\n",
              "      <td>...</td>\n",
              "      <td>...</td>\n",
              "      <td>...</td>\n",
              "    </tr>\n",
              "    <tr>\n",
              "      <th>91</th>\n",
              "      <td>May 24, 2022</td>\n",
              "      <td>29101.13</td>\n",
              "      <td>29774.36</td>\n",
              "      <td>28786.59</td>\n",
              "      <td>29655.59</td>\n",
              "      <td>29655.59</td>\n",
              "      <td>26616506245</td>\n",
              "      <td>29098.91</td>\n",
              "      <td>30323.72</td>\n",
              "      <td>29432.23</td>\n",
              "      <td>29200.74</td>\n",
              "    </tr>\n",
              "    <tr>\n",
              "      <th>92</th>\n",
              "      <td>May 23, 2022</td>\n",
              "      <td>30309.40</td>\n",
              "      <td>30590.59</td>\n",
              "      <td>28975.56</td>\n",
              "      <td>29098.91</td>\n",
              "      <td>29098.91</td>\n",
              "      <td>31483454557</td>\n",
              "      <td>30323.72</td>\n",
              "      <td>29432.23</td>\n",
              "      <td>29200.74</td>\n",
              "      <td>30314.33</td>\n",
              "    </tr>\n",
              "    <tr>\n",
              "      <th>93</th>\n",
              "      <td>May 22, 2022</td>\n",
              "      <td>29432.47</td>\n",
              "      <td>30425.86</td>\n",
              "      <td>29275.18</td>\n",
              "      <td>30323.72</td>\n",
              "      <td>30323.72</td>\n",
              "      <td>21631532270</td>\n",
              "      <td>29432.23</td>\n",
              "      <td>29200.74</td>\n",
              "      <td>30314.33</td>\n",
              "      <td>28720.27</td>\n",
              "    </tr>\n",
              "    <tr>\n",
              "      <th>94</th>\n",
              "      <td>May 21, 2022</td>\n",
              "      <td>29199.86</td>\n",
              "      <td>29588.87</td>\n",
              "      <td>29027.39</td>\n",
              "      <td>29432.23</td>\n",
              "      <td>29432.23</td>\n",
              "      <td>17274840442</td>\n",
              "      <td>29200.74</td>\n",
              "      <td>30314.33</td>\n",
              "      <td>28720.27</td>\n",
              "      <td>30425.86</td>\n",
              "    </tr>\n",
              "    <tr>\n",
              "      <th>95</th>\n",
              "      <td>May 20, 2022</td>\n",
              "      <td>30311.12</td>\n",
              "      <td>30664.98</td>\n",
              "      <td>28793.61</td>\n",
              "      <td>29200.74</td>\n",
              "      <td>29200.74</td>\n",
              "      <td>30749382605</td>\n",
              "      <td>30314.33</td>\n",
              "      <td>28720.27</td>\n",
              "      <td>30425.86</td>\n",
              "      <td>29862.92</td>\n",
              "    </tr>\n",
              "  </tbody>\n",
              "</table>\n",
              "<p>96 rows × 11 columns</p>\n",
              "</div>\n",
              "      <button class=\"colab-df-convert\" onclick=\"convertToInteractive('df-4a18ecda-bbcf-4067-aee1-cba6a0e9f0d4')\"\n",
              "              title=\"Convert this dataframe to an interactive table.\"\n",
              "              style=\"display:none;\">\n",
              "        \n",
              "  <svg xmlns=\"http://www.w3.org/2000/svg\" height=\"24px\"viewBox=\"0 0 24 24\"\n",
              "       width=\"24px\">\n",
              "    <path d=\"M0 0h24v24H0V0z\" fill=\"none\"/>\n",
              "    <path d=\"M18.56 5.44l.94 2.06.94-2.06 2.06-.94-2.06-.94-.94-2.06-.94 2.06-2.06.94zm-11 1L8.5 8.5l.94-2.06 2.06-.94-2.06-.94L8.5 2.5l-.94 2.06-2.06.94zm10 10l.94 2.06.94-2.06 2.06-.94-2.06-.94-.94-2.06-.94 2.06-2.06.94z\"/><path d=\"M17.41 7.96l-1.37-1.37c-.4-.4-.92-.59-1.43-.59-.52 0-1.04.2-1.43.59L10.3 9.45l-7.72 7.72c-.78.78-.78 2.05 0 2.83L4 21.41c.39.39.9.59 1.41.59.51 0 1.02-.2 1.41-.59l7.78-7.78 2.81-2.81c.8-.78.8-2.07 0-2.86zM5.41 20L4 18.59l7.72-7.72 1.47 1.35L5.41 20z\"/>\n",
              "  </svg>\n",
              "      </button>\n",
              "      \n",
              "  <style>\n",
              "    .colab-df-container {\n",
              "      display:flex;\n",
              "      flex-wrap:wrap;\n",
              "      gap: 12px;\n",
              "    }\n",
              "\n",
              "    .colab-df-convert {\n",
              "      background-color: #E8F0FE;\n",
              "      border: none;\n",
              "      border-radius: 50%;\n",
              "      cursor: pointer;\n",
              "      display: none;\n",
              "      fill: #1967D2;\n",
              "      height: 32px;\n",
              "      padding: 0 0 0 0;\n",
              "      width: 32px;\n",
              "    }\n",
              "\n",
              "    .colab-df-convert:hover {\n",
              "      background-color: #E2EBFA;\n",
              "      box-shadow: 0px 1px 2px rgba(60, 64, 67, 0.3), 0px 1px 3px 1px rgba(60, 64, 67, 0.15);\n",
              "      fill: #174EA6;\n",
              "    }\n",
              "\n",
              "    [theme=dark] .colab-df-convert {\n",
              "      background-color: #3B4455;\n",
              "      fill: #D2E3FC;\n",
              "    }\n",
              "\n",
              "    [theme=dark] .colab-df-convert:hover {\n",
              "      background-color: #434B5C;\n",
              "      box-shadow: 0px 1px 3px 1px rgba(0, 0, 0, 0.15);\n",
              "      filter: drop-shadow(0px 1px 2px rgba(0, 0, 0, 0.3));\n",
              "      fill: #FFFFFF;\n",
              "    }\n",
              "  </style>\n",
              "\n",
              "      <script>\n",
              "        const buttonEl =\n",
              "          document.querySelector('#df-4a18ecda-bbcf-4067-aee1-cba6a0e9f0d4 button.colab-df-convert');\n",
              "        buttonEl.style.display =\n",
              "          google.colab.kernel.accessAllowed ? 'block' : 'none';\n",
              "\n",
              "        async function convertToInteractive(key) {\n",
              "          const element = document.querySelector('#df-4a18ecda-bbcf-4067-aee1-cba6a0e9f0d4');\n",
              "          const dataTable =\n",
              "            await google.colab.kernel.invokeFunction('convertToInteractive',\n",
              "                                                     [key], {});\n",
              "          if (!dataTable) return;\n",
              "\n",
              "          const docLinkHtml = 'Like what you see? Visit the ' +\n",
              "            '<a target=\"_blank\" href=https://colab.research.google.com/notebooks/data_table.ipynb>data table notebook</a>'\n",
              "            + ' to learn more about interactive tables.';\n",
              "          element.innerHTML = '';\n",
              "          dataTable['output_type'] = 'display_data';\n",
              "          await google.colab.output.renderOutput(dataTable, element);\n",
              "          const docLink = document.createElement('div');\n",
              "          docLink.innerHTML = docLinkHtml;\n",
              "          element.appendChild(docLink);\n",
              "        }\n",
              "      </script>\n",
              "    </div>\n",
              "  </div>\n",
              "  "
            ]
          },
          "metadata": {},
          "execution_count": 17
        }
      ]
    },
    {
      "cell_type": "code",
      "source": [
        "import sklearn\n",
        "from sklearn.model_selection import train_test_split"
      ],
      "metadata": {
        "id": "-5rVPnoW41zI"
      },
      "execution_count": 18,
      "outputs": []
    },
    {
      "cell_type": "code",
      "source": [
        "X = dataframe[[\"Open\", 'yesterday close', '2 day ago close', '3 day ago close' ,'4 day ago close']]\n",
        "x_train, x_test, y_train, y_test = train_test_split(X, dataframe[[\"Close*\"]], test_size=0.20, shuffle=False)\n",
        "x_train"
      ],
      "metadata": {
        "colab": {
          "base_uri": "https://localhost:8080/",
          "height": 424
        },
        "id": "aTrkGhOFGRDv",
        "outputId": "96969078-ddd7-4afa-8c29-51ac00532788"
      },
      "execution_count": 19,
      "outputs": [
        {
          "output_type": "execute_result",
          "data": {
            "text/plain": [
              "        Open yesterday close 2 day ago close 3 day ago close 4 day ago close\n",
              "0   21398.63        21398.91        21534.12        21166.06        20877.55\n",
              "1   21531.46        21534.12        21166.06        20877.55        23212.74\n",
              "2   21160.39        21166.06        20877.55        23212.74        23336.00\n",
              "3   20872.84        20877.55        23212.74        23336.00        23883.29\n",
              "4   23213.31        23212.74        23336.00        23883.29        24136.97\n",
              "..       ...             ...             ...             ...             ...\n",
              "71  26737.58        26762.65        28360.81        29083.80        30112.00\n",
              "72  28373.51        28360.81        29083.80        30112.00        30214.36\n",
              "73  29084.67        29083.80        30112.00        30214.36        31155.48\n",
              "74  30110.33        30112.00        30214.36        31155.48        31370.67\n",
              "75  30215.28        30214.36        31155.48        31370.67        29906.66\n",
              "\n",
              "[76 rows x 5 columns]"
            ],
            "text/html": [
              "\n",
              "  <div id=\"df-1c2a9aef-74b1-4a4b-9779-24ff2652359b\">\n",
              "    <div class=\"colab-df-container\">\n",
              "      <div>\n",
              "<style scoped>\n",
              "    .dataframe tbody tr th:only-of-type {\n",
              "        vertical-align: middle;\n",
              "    }\n",
              "\n",
              "    .dataframe tbody tr th {\n",
              "        vertical-align: top;\n",
              "    }\n",
              "\n",
              "    .dataframe thead th {\n",
              "        text-align: right;\n",
              "    }\n",
              "</style>\n",
              "<table border=\"1\" class=\"dataframe\">\n",
              "  <thead>\n",
              "    <tr style=\"text-align: right;\">\n",
              "      <th></th>\n",
              "      <th>Open</th>\n",
              "      <th>yesterday close</th>\n",
              "      <th>2 day ago close</th>\n",
              "      <th>3 day ago close</th>\n",
              "      <th>4 day ago close</th>\n",
              "    </tr>\n",
              "  </thead>\n",
              "  <tbody>\n",
              "    <tr>\n",
              "      <th>0</th>\n",
              "      <td>21398.63</td>\n",
              "      <td>21398.91</td>\n",
              "      <td>21534.12</td>\n",
              "      <td>21166.06</td>\n",
              "      <td>20877.55</td>\n",
              "    </tr>\n",
              "    <tr>\n",
              "      <th>1</th>\n",
              "      <td>21531.46</td>\n",
              "      <td>21534.12</td>\n",
              "      <td>21166.06</td>\n",
              "      <td>20877.55</td>\n",
              "      <td>23212.74</td>\n",
              "    </tr>\n",
              "    <tr>\n",
              "      <th>2</th>\n",
              "      <td>21160.39</td>\n",
              "      <td>21166.06</td>\n",
              "      <td>20877.55</td>\n",
              "      <td>23212.74</td>\n",
              "      <td>23336.00</td>\n",
              "    </tr>\n",
              "    <tr>\n",
              "      <th>3</th>\n",
              "      <td>20872.84</td>\n",
              "      <td>20877.55</td>\n",
              "      <td>23212.74</td>\n",
              "      <td>23336.00</td>\n",
              "      <td>23883.29</td>\n",
              "    </tr>\n",
              "    <tr>\n",
              "      <th>4</th>\n",
              "      <td>23213.31</td>\n",
              "      <td>23212.74</td>\n",
              "      <td>23336.00</td>\n",
              "      <td>23883.29</td>\n",
              "      <td>24136.97</td>\n",
              "    </tr>\n",
              "    <tr>\n",
              "      <th>...</th>\n",
              "      <td>...</td>\n",
              "      <td>...</td>\n",
              "      <td>...</td>\n",
              "      <td>...</td>\n",
              "      <td>...</td>\n",
              "    </tr>\n",
              "    <tr>\n",
              "      <th>71</th>\n",
              "      <td>26737.58</td>\n",
              "      <td>26762.65</td>\n",
              "      <td>28360.81</td>\n",
              "      <td>29083.80</td>\n",
              "      <td>30112.00</td>\n",
              "    </tr>\n",
              "    <tr>\n",
              "      <th>72</th>\n",
              "      <td>28373.51</td>\n",
              "      <td>28360.81</td>\n",
              "      <td>29083.80</td>\n",
              "      <td>30112.00</td>\n",
              "      <td>30214.36</td>\n",
              "    </tr>\n",
              "    <tr>\n",
              "      <th>73</th>\n",
              "      <td>29084.67</td>\n",
              "      <td>29083.80</td>\n",
              "      <td>30112.00</td>\n",
              "      <td>30214.36</td>\n",
              "      <td>31155.48</td>\n",
              "    </tr>\n",
              "    <tr>\n",
              "      <th>74</th>\n",
              "      <td>30110.33</td>\n",
              "      <td>30112.00</td>\n",
              "      <td>30214.36</td>\n",
              "      <td>31155.48</td>\n",
              "      <td>31370.67</td>\n",
              "    </tr>\n",
              "    <tr>\n",
              "      <th>75</th>\n",
              "      <td>30215.28</td>\n",
              "      <td>30214.36</td>\n",
              "      <td>31155.48</td>\n",
              "      <td>31370.67</td>\n",
              "      <td>29906.66</td>\n",
              "    </tr>\n",
              "  </tbody>\n",
              "</table>\n",
              "<p>76 rows × 5 columns</p>\n",
              "</div>\n",
              "      <button class=\"colab-df-convert\" onclick=\"convertToInteractive('df-1c2a9aef-74b1-4a4b-9779-24ff2652359b')\"\n",
              "              title=\"Convert this dataframe to an interactive table.\"\n",
              "              style=\"display:none;\">\n",
              "        \n",
              "  <svg xmlns=\"http://www.w3.org/2000/svg\" height=\"24px\"viewBox=\"0 0 24 24\"\n",
              "       width=\"24px\">\n",
              "    <path d=\"M0 0h24v24H0V0z\" fill=\"none\"/>\n",
              "    <path d=\"M18.56 5.44l.94 2.06.94-2.06 2.06-.94-2.06-.94-.94-2.06-.94 2.06-2.06.94zm-11 1L8.5 8.5l.94-2.06 2.06-.94-2.06-.94L8.5 2.5l-.94 2.06-2.06.94zm10 10l.94 2.06.94-2.06 2.06-.94-2.06-.94-.94-2.06-.94 2.06-2.06.94z\"/><path d=\"M17.41 7.96l-1.37-1.37c-.4-.4-.92-.59-1.43-.59-.52 0-1.04.2-1.43.59L10.3 9.45l-7.72 7.72c-.78.78-.78 2.05 0 2.83L4 21.41c.39.39.9.59 1.41.59.51 0 1.02-.2 1.41-.59l7.78-7.78 2.81-2.81c.8-.78.8-2.07 0-2.86zM5.41 20L4 18.59l7.72-7.72 1.47 1.35L5.41 20z\"/>\n",
              "  </svg>\n",
              "      </button>\n",
              "      \n",
              "  <style>\n",
              "    .colab-df-container {\n",
              "      display:flex;\n",
              "      flex-wrap:wrap;\n",
              "      gap: 12px;\n",
              "    }\n",
              "\n",
              "    .colab-df-convert {\n",
              "      background-color: #E8F0FE;\n",
              "      border: none;\n",
              "      border-radius: 50%;\n",
              "      cursor: pointer;\n",
              "      display: none;\n",
              "      fill: #1967D2;\n",
              "      height: 32px;\n",
              "      padding: 0 0 0 0;\n",
              "      width: 32px;\n",
              "    }\n",
              "\n",
              "    .colab-df-convert:hover {\n",
              "      background-color: #E2EBFA;\n",
              "      box-shadow: 0px 1px 2px rgba(60, 64, 67, 0.3), 0px 1px 3px 1px rgba(60, 64, 67, 0.15);\n",
              "      fill: #174EA6;\n",
              "    }\n",
              "\n",
              "    [theme=dark] .colab-df-convert {\n",
              "      background-color: #3B4455;\n",
              "      fill: #D2E3FC;\n",
              "    }\n",
              "\n",
              "    [theme=dark] .colab-df-convert:hover {\n",
              "      background-color: #434B5C;\n",
              "      box-shadow: 0px 1px 3px 1px rgba(0, 0, 0, 0.15);\n",
              "      filter: drop-shadow(0px 1px 2px rgba(0, 0, 0, 0.3));\n",
              "      fill: #FFFFFF;\n",
              "    }\n",
              "  </style>\n",
              "\n",
              "      <script>\n",
              "        const buttonEl =\n",
              "          document.querySelector('#df-1c2a9aef-74b1-4a4b-9779-24ff2652359b button.colab-df-convert');\n",
              "        buttonEl.style.display =\n",
              "          google.colab.kernel.accessAllowed ? 'block' : 'none';\n",
              "\n",
              "        async function convertToInteractive(key) {\n",
              "          const element = document.querySelector('#df-1c2a9aef-74b1-4a4b-9779-24ff2652359b');\n",
              "          const dataTable =\n",
              "            await google.colab.kernel.invokeFunction('convertToInteractive',\n",
              "                                                     [key], {});\n",
              "          if (!dataTable) return;\n",
              "\n",
              "          const docLinkHtml = 'Like what you see? Visit the ' +\n",
              "            '<a target=\"_blank\" href=https://colab.research.google.com/notebooks/data_table.ipynb>data table notebook</a>'\n",
              "            + ' to learn more about interactive tables.';\n",
              "          element.innerHTML = '';\n",
              "          dataTable['output_type'] = 'display_data';\n",
              "          await google.colab.output.renderOutput(dataTable, element);\n",
              "          const docLink = document.createElement('div');\n",
              "          docLink.innerHTML = docLinkHtml;\n",
              "          element.appendChild(docLink);\n",
              "        }\n",
              "      </script>\n",
              "    </div>\n",
              "  </div>\n",
              "  "
            ]
          },
          "metadata": {},
          "execution_count": 19
        }
      ]
    },
    {
      "cell_type": "markdown",
      "source": [
        "# LinearRegression"
      ],
      "metadata": {
        "id": "b1WLix05tNwL"
      }
    },
    {
      "cell_type": "code",
      "source": [
        "from sklearn.linear_model import LinearRegression"
      ],
      "metadata": {
        "id": "anvy8Aa-Jg2K"
      },
      "execution_count": 20,
      "outputs": []
    },
    {
      "cell_type": "code",
      "source": [
        "lm = LinearRegression()\n",
        "lm.fit(x_train,y_train)"
      ],
      "metadata": {
        "colab": {
          "base_uri": "https://localhost:8080/"
        },
        "id": "IJvUbPzBMb4L",
        "outputId": "84aca8a3-a60e-425e-c51a-efc988a01f64"
      },
      "execution_count": 21,
      "outputs": [
        {
          "output_type": "execute_result",
          "data": {
            "text/plain": [
              "LinearRegression()"
            ]
          },
          "metadata": {},
          "execution_count": 21
        }
      ]
    },
    {
      "cell_type": "code",
      "source": [
        "pred= lm.predict(x_test)\n",
        "pred"
      ],
      "metadata": {
        "colab": {
          "base_uri": "https://localhost:8080/"
        },
        "id": "GF6kvxLMM2rn",
        "outputId": "7c6280ff-87d2-4862-9902-d1217887d128"
      },
      "execution_count": 22,
      "outputs": [
        {
          "output_type": "execute_result",
          "data": {
            "text/plain": [
              "array([[29839.66562868],\n",
              "       [30090.2170949 ],\n",
              "       [28616.67448278],\n",
              "       [28680.46682032],\n",
              "       [28230.01742988],\n",
              "       [29066.28292916],\n",
              "       [28728.63206313],\n",
              "       [30578.17266799],\n",
              "       [30498.36995011],\n",
              "       [28260.80173515],\n",
              "       [28871.41362043],\n",
              "       [27478.17139128],\n",
              "       [28096.89275348],\n",
              "       [28272.56672931],\n",
              "       [28533.4030715 ],\n",
              "       [28014.92280886],\n",
              "       [28896.95625506],\n",
              "       [28440.68100471],\n",
              "       [27875.14554968],\n",
              "       [29092.16637321]])"
            ]
          },
          "metadata": {},
          "execution_count": 22
        }
      ]
    },
    {
      "cell_type": "markdown",
      "source": [
        "#mean absolute error"
      ],
      "metadata": {
        "id": "1QgQNUpctgvj"
      }
    },
    {
      "cell_type": "code",
      "source": [
        "from sklearn import metrics\n",
        "metrics.mean_absolute_error(y_test, pred)"
      ],
      "metadata": {
        "colab": {
          "base_uri": "https://localhost:8080/"
        },
        "id": "GDioJJuxQpzL",
        "outputId": "07ac9e0f-88b9-4e7f-ff3f-cb3ebfafb612"
      },
      "execution_count": 23,
      "outputs": [
        {
          "output_type": "execute_result",
          "data": {
            "text/plain": [
              "1239.775248817318"
            ]
          },
          "metadata": {},
          "execution_count": 23
        }
      ]
    },
    {
      "cell_type": "code",
      "source": [
        ""
      ],
      "metadata": {
        "id": "bkP3gCdUs8ON"
      },
      "execution_count": null,
      "outputs": []
    }
  ]
}